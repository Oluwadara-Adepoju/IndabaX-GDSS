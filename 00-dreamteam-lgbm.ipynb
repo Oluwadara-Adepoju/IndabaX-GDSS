{
 "cells": [
  {
   "cell_type": "markdown",
   "id": "63c0ca4b",
   "metadata": {
    "papermill": {
     "duration": 0.049074,
     "end_time": "2021-07-12T11:23:38.633232",
     "exception": false,
     "start_time": "2021-07-12T11:23:38.584158",
     "status": "completed"
    },
    "tags": []
   },
   "source": [
    "### Enviroment used : jupyter lab\n",
    "### Solution runs on colab"
   ]
  },
  {
   "cell_type": "markdown",
   "id": "6ff76346",
   "metadata": {
    "papermill": {
     "duration": 0.048137,
     "end_time": "2021-07-12T11:23:38.725073",
     "exception": false,
     "start_time": "2021-07-12T11:23:38.676936",
     "status": "completed"
    },
    "tags": []
   },
   "source": [
    "## Installing the package"
   ]
  },
  {
   "cell_type": "code",
   "execution_count": 1,
   "id": "e63e1485",
   "metadata": {
    "execution": {
     "iopub.execute_input": "2021-07-12T11:23:38.840428Z",
     "iopub.status.busy": "2021-07-12T11:23:38.838821Z",
     "iopub.status.idle": "2021-07-12T11:23:48.020614Z",
     "shell.execute_reply": "2021-07-12T11:23:48.019230Z",
     "shell.execute_reply.started": "2021-07-12T02:18:40.49053Z"
    },
    "papermill": {
     "duration": 9.24051,
     "end_time": "2021-07-12T11:23:48.020804",
     "exception": false,
     "start_time": "2021-07-12T11:23:38.780294",
     "status": "completed"
    },
    "tags": []
   },
   "outputs": [
    {
     "name": "stdout",
     "output_type": "stream",
     "text": [
      "Collecting lightgbm==3.1.1\r\n",
      "  Downloading lightgbm-3.1.1-py2.py3-none-manylinux1_x86_64.whl (1.8 MB)\r\n",
      "\u001b[K     |████████████████████████████████| 1.8 MB 5.5 MB/s \r\n",
      "\u001b[?25hRequirement already satisfied: scikit-learn!=0.22.0 in /opt/conda/lib/python3.7/site-packages (from lightgbm==3.1.1) (0.23.2)\r\n",
      "Requirement already satisfied: wheel in /opt/conda/lib/python3.7/site-packages (from lightgbm==3.1.1) (0.36.2)\r\n",
      "Requirement already satisfied: numpy in /opt/conda/lib/python3.7/site-packages (from lightgbm==3.1.1) (1.19.5)\r\n",
      "Requirement already satisfied: scipy in /opt/conda/lib/python3.7/site-packages (from lightgbm==3.1.1) (1.6.3)\r\n",
      "Requirement already satisfied: joblib>=0.11 in /opt/conda/lib/python3.7/site-packages (from scikit-learn!=0.22.0->lightgbm==3.1.1) (1.0.1)\r\n",
      "Requirement already satisfied: threadpoolctl>=2.0.0 in /opt/conda/lib/python3.7/site-packages (from scikit-learn!=0.22.0->lightgbm==3.1.1) (2.1.0)\r\n",
      "Installing collected packages: lightgbm\r\n",
      "  Attempting uninstall: lightgbm\r\n",
      "    Found existing installation: lightgbm 3.2.1\r\n",
      "    Uninstalling lightgbm-3.2.1:\r\n",
      "      Successfully uninstalled lightgbm-3.2.1\r\n",
      "Successfully installed lightgbm-3.1.1\r\n",
      "\u001b[33mWARNING: Running pip as root will break packages and permissions. You should install packages reliably by using venv: https://pip.pypa.io/warnings/venv\u001b[0m\r\n"
     ]
    }
   ],
   "source": [
    "!pip install lightgbm==3.1.1 "
   ]
  },
  {
   "cell_type": "code",
   "execution_count": null,
   "id": "4edc7379",
   "metadata": {
    "papermill": {
     "duration": 0.046865,
     "end_time": "2021-07-12T11:23:48.115914",
     "exception": false,
     "start_time": "2021-07-12T11:23:48.069049",
     "status": "completed"
    },
    "tags": []
   },
   "outputs": [],
   "source": []
  },
  {
   "cell_type": "markdown",
   "id": "37dbd24d",
   "metadata": {
    "papermill": {
     "duration": 0.046218,
     "end_time": "2021-07-12T11:23:48.209691",
     "exception": false,
     "start_time": "2021-07-12T11:23:48.163473",
     "status": "completed"
    },
    "tags": []
   },
   "source": [
    "## Importing the packages"
   ]
  },
  {
   "cell_type": "code",
   "execution_count": 2,
   "id": "2b74caa8",
   "metadata": {
    "execution": {
     "iopub.execute_input": "2021-07-12T11:23:48.309787Z",
     "iopub.status.busy": "2021-07-12T11:23:48.309087Z",
     "iopub.status.idle": "2021-07-12T11:23:49.655948Z",
     "shell.execute_reply": "2021-07-12T11:23:49.655429Z",
     "shell.execute_reply.started": "2021-07-12T02:18:47.396821Z"
    },
    "papermill": {
     "duration": 1.39994,
     "end_time": "2021-07-12T11:23:49.656101",
     "exception": false,
     "start_time": "2021-07-12T11:23:48.256161",
     "status": "completed"
    },
    "tags": []
   },
   "outputs": [
    {
     "data": {
      "text/html": [
       "<style type='text/css'>\n",
       ".datatable table.frame { margin-bottom: 0; }\n",
       ".datatable table.frame thead { border-bottom: none; }\n",
       ".datatable table.frame tr.coltypes td {  color: #FFFFFF;  line-height: 6px;  padding: 0 0.5em;}\n",
       ".datatable .bool    { background: #DDDD99; }\n",
       ".datatable .object  { background: #565656; }\n",
       ".datatable .int     { background: #5D9E5D; }\n",
       ".datatable .float   { background: #4040CC; }\n",
       ".datatable .str     { background: #CC4040; }\n",
       ".datatable .time    { background: #40CC40; }\n",
       ".datatable .row_index {  background: var(--jp-border-color3);  border-right: 1px solid var(--jp-border-color0);  color: var(--jp-ui-font-color3);  font-size: 9px;}\n",
       ".datatable .frame tbody td { text-align: left; }\n",
       ".datatable .frame tr.coltypes .row_index {  background: var(--jp-border-color0);}\n",
       ".datatable th:nth-child(2) { padding-left: 12px; }\n",
       ".datatable .hellipsis {  color: var(--jp-cell-editor-border-color);}\n",
       ".datatable .vellipsis {  background: var(--jp-layout-color0);  color: var(--jp-cell-editor-border-color);}\n",
       ".datatable .na {  color: var(--jp-cell-editor-border-color);  font-size: 80%;}\n",
       ".datatable .sp {  opacity: 0.25;}\n",
       ".datatable .footer { font-size: 9px; }\n",
       ".datatable .frame_dimensions {  background: var(--jp-border-color3);  border-top: 1px solid var(--jp-border-color0);  color: var(--jp-ui-font-color3);  display: inline-block;  opacity: 0.6;  padding: 1px 10px 1px 5px;}\n",
       "</style>\n"
      ],
      "text/plain": [
       "<IPython.core.display.HTML object>"
      ]
     },
     "metadata": {},
     "output_type": "display_data"
    }
   ],
   "source": [
    "import pandas as pd\n",
    "import numpy as np\n",
    "import datetime as dt\n",
    "import seaborn as sns\n",
    "import matplotlib.pyplot as plt\n",
    "from sklearn.metrics import f1_score\n",
    "from lightgbm import LGBMClassifier\n",
    "import warnings\n",
    "warnings.filterwarnings('ignore')"
   ]
  },
  {
   "cell_type": "code",
   "execution_count": 3,
   "id": "f34515aa",
   "metadata": {
    "execution": {
     "iopub.execute_input": "2021-07-12T11:23:49.782680Z",
     "iopub.status.busy": "2021-07-12T11:23:49.781824Z",
     "iopub.status.idle": "2021-07-12T11:23:49.929960Z",
     "shell.execute_reply": "2021-07-12T11:23:49.929377Z",
     "shell.execute_reply.started": "2021-07-12T02:18:47.403698Z"
    },
    "papermill": {
     "duration": 0.227235,
     "end_time": "2021-07-12T11:23:49.930118",
     "exception": false,
     "start_time": "2021-07-12T11:23:49.702883",
     "status": "completed"
    },
    "tags": []
   },
   "outputs": [
    {
     "data": {
      "text/html": [
       "<div>\n",
       "<style scoped>\n",
       "    .dataframe tbody tr th:only-of-type {\n",
       "        vertical-align: middle;\n",
       "    }\n",
       "\n",
       "    .dataframe tbody tr th {\n",
       "        vertical-align: top;\n",
       "    }\n",
       "\n",
       "    .dataframe thead th {\n",
       "        text-align: right;\n",
       "    }\n",
       "</style>\n",
       "<table border=\"1\" class=\"dataframe\">\n",
       "  <thead>\n",
       "    <tr style=\"text-align: right;\">\n",
       "      <th></th>\n",
       "      <th>ID</th>\n",
       "      <th>Policy Start Date</th>\n",
       "      <th>Policy End Date</th>\n",
       "      <th>Gender</th>\n",
       "      <th>Age</th>\n",
       "      <th>First Transaction Date</th>\n",
       "      <th>No_Pol</th>\n",
       "      <th>Car_Category</th>\n",
       "      <th>Subject_Car_Colour</th>\n",
       "      <th>Subject_Car_Make</th>\n",
       "      <th>LGA_Name</th>\n",
       "      <th>State</th>\n",
       "      <th>ProductName</th>\n",
       "      <th>target</th>\n",
       "    </tr>\n",
       "  </thead>\n",
       "  <tbody>\n",
       "    <tr>\n",
       "      <th>0</th>\n",
       "      <td>ID_0040R73</td>\n",
       "      <td>2010-05-14</td>\n",
       "      <td>2011-05-13</td>\n",
       "      <td>Male</td>\n",
       "      <td>30</td>\n",
       "      <td>2010-05-14</td>\n",
       "      <td>1</td>\n",
       "      <td>Saloon</td>\n",
       "      <td>Black</td>\n",
       "      <td>TOYOTA</td>\n",
       "      <td>NaN</td>\n",
       "      <td>NaN</td>\n",
       "      <td>Car Classic</td>\n",
       "      <td>0</td>\n",
       "    </tr>\n",
       "    <tr>\n",
       "      <th>1</th>\n",
       "      <td>ID_0046BNK</td>\n",
       "      <td>2010-11-29</td>\n",
       "      <td>2011-11-28</td>\n",
       "      <td>Female</td>\n",
       "      <td>79</td>\n",
       "      <td>2010-11-29</td>\n",
       "      <td>1</td>\n",
       "      <td>JEEP</td>\n",
       "      <td>Grey</td>\n",
       "      <td>TOYOTA</td>\n",
       "      <td>NaN</td>\n",
       "      <td>NaN</td>\n",
       "      <td>Car Classic</td>\n",
       "      <td>1</td>\n",
       "    </tr>\n",
       "    <tr>\n",
       "      <th>2</th>\n",
       "      <td>ID_005QMC3</td>\n",
       "      <td>2010-03-21</td>\n",
       "      <td>2011-03-20</td>\n",
       "      <td>Male</td>\n",
       "      <td>43</td>\n",
       "      <td>2010-03-21</td>\n",
       "      <td>1</td>\n",
       "      <td>Saloon</td>\n",
       "      <td>Red</td>\n",
       "      <td>TOYOTA</td>\n",
       "      <td>NaN</td>\n",
       "      <td>NaN</td>\n",
       "      <td>Car Classic</td>\n",
       "      <td>0</td>\n",
       "    </tr>\n",
       "    <tr>\n",
       "      <th>3</th>\n",
       "      <td>ID_0079OHW</td>\n",
       "      <td>2010-08-21</td>\n",
       "      <td>2011-08-20</td>\n",
       "      <td>Male</td>\n",
       "      <td>2</td>\n",
       "      <td>2010-08-21</td>\n",
       "      <td>1</td>\n",
       "      <td>NaN</td>\n",
       "      <td>NaN</td>\n",
       "      <td>NaN</td>\n",
       "      <td>NaN</td>\n",
       "      <td>NaN</td>\n",
       "      <td>CarSafe</td>\n",
       "      <td>0</td>\n",
       "    </tr>\n",
       "    <tr>\n",
       "      <th>4</th>\n",
       "      <td>ID_00BRP63</td>\n",
       "      <td>2010-08-29</td>\n",
       "      <td>2010-12-31</td>\n",
       "      <td>Entity</td>\n",
       "      <td>20</td>\n",
       "      <td>2010-08-29</td>\n",
       "      <td>3</td>\n",
       "      <td>NaN</td>\n",
       "      <td>NaN</td>\n",
       "      <td>NaN</td>\n",
       "      <td>Lagos</td>\n",
       "      <td>Lagos</td>\n",
       "      <td>Muuve</td>\n",
       "      <td>1</td>\n",
       "    </tr>\n",
       "  </tbody>\n",
       "</table>\n",
       "</div>"
      ],
      "text/plain": [
       "           ID Policy Start Date Policy End Date  Gender  Age  \\\n",
       "0  ID_0040R73        2010-05-14      2011-05-13    Male   30   \n",
       "1  ID_0046BNK        2010-11-29      2011-11-28  Female   79   \n",
       "2  ID_005QMC3        2010-03-21      2011-03-20    Male   43   \n",
       "3  ID_0079OHW        2010-08-21      2011-08-20    Male    2   \n",
       "4  ID_00BRP63        2010-08-29      2010-12-31  Entity   20   \n",
       "\n",
       "  First Transaction Date  No_Pol Car_Category Subject_Car_Colour  \\\n",
       "0             2010-05-14       1       Saloon              Black   \n",
       "1             2010-11-29       1         JEEP               Grey   \n",
       "2             2010-03-21       1       Saloon                Red   \n",
       "3             2010-08-21       1          NaN                NaN   \n",
       "4             2010-08-29       3          NaN                NaN   \n",
       "\n",
       "  Subject_Car_Make LGA_Name  State  ProductName  target  \n",
       "0           TOYOTA      NaN    NaN  Car Classic       0  \n",
       "1           TOYOTA      NaN    NaN  Car Classic       1  \n",
       "2           TOYOTA      NaN    NaN  Car Classic       0  \n",
       "3              NaN      NaN    NaN      CarSafe       0  \n",
       "4              NaN    Lagos  Lagos        Muuve       1  "
      ]
     },
     "execution_count": 3,
     "metadata": {},
     "output_type": "execute_result"
    }
   ],
   "source": [
    "## Reading the dataset\n",
    "train = pd.read_csv('../input/indabax-ghana-avic-hack-ds/files/Train.csv',parse_dates=['Policy Start Date','Policy End Date','First Transaction Date'])\n",
    "test = pd.read_csv('../input/indabax-ghana-avic-hack-ds/files/Test.csv',parse_dates=['Policy Start Date','Policy End Date','First Transaction Date'])\n",
    "ss = pd.read_csv('../input/indabax-ghana-avic-hack-ds/files/SampleSubmission.csv')\n",
    "#\n",
    "train.head()"
   ]
  },
  {
   "cell_type": "markdown",
   "id": "6eb790c2",
   "metadata": {
    "papermill": {
     "duration": 0.047161,
     "end_time": "2021-07-12T11:23:50.025844",
     "exception": false,
     "start_time": "2021-07-12T11:23:49.978683",
     "status": "completed"
    },
    "tags": []
   },
   "source": [
    "## Exploratory Data Analysis"
   ]
  },
  {
   "cell_type": "code",
   "execution_count": null,
   "id": "2a11f019",
   "metadata": {
    "papermill": {
     "duration": 0.047114,
     "end_time": "2021-07-12T11:23:50.120447",
     "exception": false,
     "start_time": "2021-07-12T11:23:50.073333",
     "status": "completed"
    },
    "tags": []
   },
   "outputs": [],
   "source": []
  },
  {
   "cell_type": "code",
   "execution_count": 4,
   "id": "fca7e432",
   "metadata": {
    "execution": {
     "iopub.execute_input": "2021-07-12T11:23:50.229315Z",
     "iopub.status.busy": "2021-07-12T11:23:50.228337Z",
     "iopub.status.idle": "2021-07-12T11:23:50.232720Z",
     "shell.execute_reply": "2021-07-12T11:23:50.232163Z",
     "shell.execute_reply.started": "2021-07-12T02:18:47.51183Z"
    },
    "papermill": {
     "duration": 0.064876,
     "end_time": "2021-07-12T11:23:50.232860",
     "exception": false,
     "start_time": "2021-07-12T11:23:50.167984",
     "status": "completed"
    },
    "tags": []
   },
   "outputs": [
    {
     "data": {
      "text/plain": [
       "Lagos              3186\n",
       "Benue               626\n",
       "Abuja-Municipal     232\n",
       "Eti-Osa             217\n",
       "Ibeju-Lekki         123\n",
       "                   ... \n",
       "Bauchi                1\n",
       "Kano                  1\n",
       "Awka-North            1\n",
       "Ilesha-East           1\n",
       "Ogba-Ndoni            1\n",
       "Name: State, Length: 111, dtype: int64"
      ]
     },
     "execution_count": 4,
     "metadata": {},
     "output_type": "execute_result"
    }
   ],
   "source": [
    "train.State.value_counts()"
   ]
  },
  {
   "cell_type": "code",
   "execution_count": 5,
   "id": "d0d671df",
   "metadata": {
    "execution": {
     "iopub.execute_input": "2021-07-12T11:23:50.332642Z",
     "iopub.status.busy": "2021-07-12T11:23:50.331615Z",
     "iopub.status.idle": "2021-07-12T11:23:50.365628Z",
     "shell.execute_reply": "2021-07-12T11:23:50.365061Z",
     "shell.execute_reply.started": "2021-07-12T02:18:47.523507Z"
    },
    "papermill": {
     "duration": 0.085009,
     "end_time": "2021-07-12T11:23:50.365784",
     "exception": false,
     "start_time": "2021-07-12T11:23:50.280775",
     "status": "completed"
    },
    "tags": []
   },
   "outputs": [
    {
     "data": {
      "text/html": [
       "<div>\n",
       "<style scoped>\n",
       "    .dataframe tbody tr th:only-of-type {\n",
       "        vertical-align: middle;\n",
       "    }\n",
       "\n",
       "    .dataframe tbody tr th {\n",
       "        vertical-align: top;\n",
       "    }\n",
       "\n",
       "    .dataframe thead th {\n",
       "        text-align: right;\n",
       "    }\n",
       "</style>\n",
       "<table border=\"1\" class=\"dataframe\">\n",
       "  <thead>\n",
       "    <tr style=\"text-align: right;\">\n",
       "      <th></th>\n",
       "      <th>ID</th>\n",
       "      <th>Policy Start Date</th>\n",
       "      <th>Policy End Date</th>\n",
       "      <th>Gender</th>\n",
       "      <th>Age</th>\n",
       "      <th>First Transaction Date</th>\n",
       "      <th>No_Pol</th>\n",
       "      <th>Car_Category</th>\n",
       "      <th>Subject_Car_Colour</th>\n",
       "      <th>Subject_Car_Make</th>\n",
       "      <th>LGA_Name</th>\n",
       "      <th>State</th>\n",
       "      <th>ProductName</th>\n",
       "      <th>target</th>\n",
       "    </tr>\n",
       "  </thead>\n",
       "  <tbody>\n",
       "    <tr>\n",
       "      <th>8</th>\n",
       "      <td>ID_00N7XT1</td>\n",
       "      <td>2010-07-06</td>\n",
       "      <td>2011-07-05</td>\n",
       "      <td>Female</td>\n",
       "      <td>71</td>\n",
       "      <td>2010-07-06</td>\n",
       "      <td>2</td>\n",
       "      <td>JEEP</td>\n",
       "      <td>Black</td>\n",
       "      <td>REXTON</td>\n",
       "      <td>Badagry</td>\n",
       "      <td>Benue</td>\n",
       "      <td>Car Classic</td>\n",
       "      <td>0</td>\n",
       "    </tr>\n",
       "    <tr>\n",
       "      <th>26</th>\n",
       "      <td>ID_02DJWEN</td>\n",
       "      <td>2010-01-23</td>\n",
       "      <td>2011-01-16</td>\n",
       "      <td>Male</td>\n",
       "      <td>41</td>\n",
       "      <td>2010-01-23</td>\n",
       "      <td>1</td>\n",
       "      <td>Saloon</td>\n",
       "      <td>Silver</td>\n",
       "      <td>TOYOTA</td>\n",
       "      <td>Yaba</td>\n",
       "      <td>Benue</td>\n",
       "      <td>Car Classic</td>\n",
       "      <td>0</td>\n",
       "    </tr>\n",
       "    <tr>\n",
       "      <th>29</th>\n",
       "      <td>ID_02O5FDM</td>\n",
       "      <td>2010-02-10</td>\n",
       "      <td>2011-02-09</td>\n",
       "      <td>Joint Gender</td>\n",
       "      <td>20</td>\n",
       "      <td>2010-02-10</td>\n",
       "      <td>1</td>\n",
       "      <td>NaN</td>\n",
       "      <td>As Attached</td>\n",
       "      <td>TOYOTA</td>\n",
       "      <td>Aguda</td>\n",
       "      <td>Benue</td>\n",
       "      <td>Car Classic</td>\n",
       "      <td>0</td>\n",
       "    </tr>\n",
       "    <tr>\n",
       "      <th>46</th>\n",
       "      <td>ID_04JEN82</td>\n",
       "      <td>2010-03-08</td>\n",
       "      <td>2011-02-09</td>\n",
       "      <td>Male</td>\n",
       "      <td>41</td>\n",
       "      <td>2010-03-08</td>\n",
       "      <td>2</td>\n",
       "      <td>Saloon</td>\n",
       "      <td>Silver</td>\n",
       "      <td>TOYOTA</td>\n",
       "      <td>IbadanCentral</td>\n",
       "      <td>Benue</td>\n",
       "      <td>Car Plus</td>\n",
       "      <td>0</td>\n",
       "    </tr>\n",
       "    <tr>\n",
       "      <th>56</th>\n",
       "      <td>ID_05FC0AD</td>\n",
       "      <td>2010-07-04</td>\n",
       "      <td>2011-07-03</td>\n",
       "      <td>Female</td>\n",
       "      <td>50</td>\n",
       "      <td>2010-07-04</td>\n",
       "      <td>1</td>\n",
       "      <td>Saloon</td>\n",
       "      <td>NaN</td>\n",
       "      <td>TOYOTA</td>\n",
       "      <td>OBANIKORO</td>\n",
       "      <td>Benue</td>\n",
       "      <td>Car Classic</td>\n",
       "      <td>0</td>\n",
       "    </tr>\n",
       "    <tr>\n",
       "      <th>...</th>\n",
       "      <td>...</td>\n",
       "      <td>...</td>\n",
       "      <td>...</td>\n",
       "      <td>...</td>\n",
       "      <td>...</td>\n",
       "      <td>...</td>\n",
       "      <td>...</td>\n",
       "      <td>...</td>\n",
       "      <td>...</td>\n",
       "      <td>...</td>\n",
       "      <td>...</td>\n",
       "      <td>...</td>\n",
       "      <td>...</td>\n",
       "      <td>...</td>\n",
       "    </tr>\n",
       "    <tr>\n",
       "      <th>11993</th>\n",
       "      <td>ID_ZR94K40</td>\n",
       "      <td>2010-03-28</td>\n",
       "      <td>2011-03-27</td>\n",
       "      <td>Male</td>\n",
       "      <td>86</td>\n",
       "      <td>2010-03-28</td>\n",
       "      <td>1</td>\n",
       "      <td>NaN</td>\n",
       "      <td>NaN</td>\n",
       "      <td>TOYOTA</td>\n",
       "      <td>Kosofe</td>\n",
       "      <td>Benue</td>\n",
       "      <td>Car Classic</td>\n",
       "      <td>0</td>\n",
       "    </tr>\n",
       "    <tr>\n",
       "      <th>12004</th>\n",
       "      <td>ID_ZSEUUD8</td>\n",
       "      <td>2010-03-03</td>\n",
       "      <td>2011-03-01</td>\n",
       "      <td>Male</td>\n",
       "      <td>56</td>\n",
       "      <td>2010-03-03</td>\n",
       "      <td>1</td>\n",
       "      <td>Saloon</td>\n",
       "      <td>NaN</td>\n",
       "      <td>TOYOTA</td>\n",
       "      <td>Oredo</td>\n",
       "      <td>Benue</td>\n",
       "      <td>Car Classic</td>\n",
       "      <td>0</td>\n",
       "    </tr>\n",
       "    <tr>\n",
       "      <th>12009</th>\n",
       "      <td>ID_ZSQB2BN</td>\n",
       "      <td>2010-03-20</td>\n",
       "      <td>2011-01-27</td>\n",
       "      <td>Male</td>\n",
       "      <td>46</td>\n",
       "      <td>2010-03-20</td>\n",
       "      <td>2</td>\n",
       "      <td>Saloon</td>\n",
       "      <td>Black</td>\n",
       "      <td>Volkswagen</td>\n",
       "      <td>Katagum</td>\n",
       "      <td>Benue</td>\n",
       "      <td>Car Classic</td>\n",
       "      <td>0</td>\n",
       "    </tr>\n",
       "    <tr>\n",
       "      <th>12020</th>\n",
       "      <td>ID_ZTSQ90V</td>\n",
       "      <td>2010-02-06</td>\n",
       "      <td>2011-02-05</td>\n",
       "      <td>Male</td>\n",
       "      <td>57</td>\n",
       "      <td>2010-02-06</td>\n",
       "      <td>1</td>\n",
       "      <td>Saloon</td>\n",
       "      <td>Silver</td>\n",
       "      <td>TOYOTA</td>\n",
       "      <td>Egbeda</td>\n",
       "      <td>Benue</td>\n",
       "      <td>Car Classic</td>\n",
       "      <td>0</td>\n",
       "    </tr>\n",
       "    <tr>\n",
       "      <th>12050</th>\n",
       "      <td>ID_ZWX4QUS</td>\n",
       "      <td>2010-03-19</td>\n",
       "      <td>2011-03-18</td>\n",
       "      <td>Male</td>\n",
       "      <td>59</td>\n",
       "      <td>2010-03-19</td>\n",
       "      <td>1</td>\n",
       "      <td>JEEP</td>\n",
       "      <td>Black</td>\n",
       "      <td>TOYOTA</td>\n",
       "      <td>MAGODO</td>\n",
       "      <td>Benue</td>\n",
       "      <td>Car Classic</td>\n",
       "      <td>0</td>\n",
       "    </tr>\n",
       "  </tbody>\n",
       "</table>\n",
       "<p>626 rows × 14 columns</p>\n",
       "</div>"
      ],
      "text/plain": [
       "               ID Policy Start Date Policy End Date        Gender  Age  \\\n",
       "8      ID_00N7XT1        2010-07-06      2011-07-05        Female   71   \n",
       "26     ID_02DJWEN        2010-01-23      2011-01-16          Male   41   \n",
       "29     ID_02O5FDM        2010-02-10      2011-02-09  Joint Gender   20   \n",
       "46     ID_04JEN82        2010-03-08      2011-02-09          Male   41   \n",
       "56     ID_05FC0AD        2010-07-04      2011-07-03        Female   50   \n",
       "...           ...               ...             ...           ...  ...   \n",
       "11993  ID_ZR94K40        2010-03-28      2011-03-27          Male   86   \n",
       "12004  ID_ZSEUUD8        2010-03-03      2011-03-01          Male   56   \n",
       "12009  ID_ZSQB2BN        2010-03-20      2011-01-27          Male   46   \n",
       "12020  ID_ZTSQ90V        2010-02-06      2011-02-05          Male   57   \n",
       "12050  ID_ZWX4QUS        2010-03-19      2011-03-18          Male   59   \n",
       "\n",
       "      First Transaction Date  No_Pol Car_Category Subject_Car_Colour  \\\n",
       "8                 2010-07-06       2         JEEP              Black   \n",
       "26                2010-01-23       1       Saloon             Silver   \n",
       "29                2010-02-10       1          NaN        As Attached   \n",
       "46                2010-03-08       2       Saloon             Silver   \n",
       "56                2010-07-04       1       Saloon                NaN   \n",
       "...                      ...     ...          ...                ...   \n",
       "11993             2010-03-28       1          NaN                NaN   \n",
       "12004             2010-03-03       1       Saloon                NaN   \n",
       "12009             2010-03-20       2       Saloon              Black   \n",
       "12020             2010-02-06       1       Saloon             Silver   \n",
       "12050             2010-03-19       1         JEEP              Black   \n",
       "\n",
       "      Subject_Car_Make       LGA_Name  State  ProductName  target  \n",
       "8               REXTON        Badagry  Benue  Car Classic       0  \n",
       "26              TOYOTA           Yaba  Benue  Car Classic       0  \n",
       "29              TOYOTA          Aguda  Benue  Car Classic       0  \n",
       "46              TOYOTA  IbadanCentral  Benue     Car Plus       0  \n",
       "56              TOYOTA      OBANIKORO  Benue  Car Classic       0  \n",
       "...                ...            ...    ...          ...     ...  \n",
       "11993           TOYOTA         Kosofe  Benue  Car Classic       0  \n",
       "12004           TOYOTA          Oredo  Benue  Car Classic       0  \n",
       "12009       Volkswagen        Katagum  Benue  Car Classic       0  \n",
       "12020           TOYOTA         Egbeda  Benue  Car Classic       0  \n",
       "12050           TOYOTA         MAGODO  Benue  Car Classic       0  \n",
       "\n",
       "[626 rows x 14 columns]"
      ]
     },
     "execution_count": 5,
     "metadata": {},
     "output_type": "execute_result"
    }
   ],
   "source": [
    "train.loc[train.State =='Benue']"
   ]
  },
  {
   "cell_type": "code",
   "execution_count": 6,
   "id": "aacd6806",
   "metadata": {
    "execution": {
     "iopub.execute_input": "2021-07-12T11:23:50.472362Z",
     "iopub.status.busy": "2021-07-12T11:23:50.471679Z",
     "iopub.status.idle": "2021-07-12T11:23:50.492161Z",
     "shell.execute_reply": "2021-07-12T11:23:50.492790Z",
     "shell.execute_reply.started": "2021-07-12T02:18:47.558329Z"
    },
    "papermill": {
     "duration": 0.076788,
     "end_time": "2021-07-12T11:23:50.492979",
     "exception": false,
     "start_time": "2021-07-12T11:23:50.416191",
     "status": "completed"
    },
    "tags": []
   },
   "outputs": [
    {
     "data": {
      "text/html": [
       "<div>\n",
       "<style scoped>\n",
       "    .dataframe tbody tr th:only-of-type {\n",
       "        vertical-align: middle;\n",
       "    }\n",
       "\n",
       "    .dataframe tbody tr th {\n",
       "        vertical-align: top;\n",
       "    }\n",
       "\n",
       "    .dataframe thead th {\n",
       "        text-align: right;\n",
       "    }\n",
       "</style>\n",
       "<table border=\"1\" class=\"dataframe\">\n",
       "  <thead>\n",
       "    <tr style=\"text-align: right;\">\n",
       "      <th></th>\n",
       "      <th>Age</th>\n",
       "      <th>No_Pol</th>\n",
       "      <th>target</th>\n",
       "    </tr>\n",
       "  </thead>\n",
       "  <tbody>\n",
       "    <tr>\n",
       "      <th>count</th>\n",
       "      <td>12079.000000</td>\n",
       "      <td>12079.000000</td>\n",
       "      <td>12079.000000</td>\n",
       "    </tr>\n",
       "    <tr>\n",
       "      <th>mean</th>\n",
       "      <td>42.234539</td>\n",
       "      <td>1.307227</td>\n",
       "      <td>0.120457</td>\n",
       "    </tr>\n",
       "    <tr>\n",
       "      <th>std</th>\n",
       "      <td>97.492565</td>\n",
       "      <td>0.733085</td>\n",
       "      <td>0.325509</td>\n",
       "    </tr>\n",
       "    <tr>\n",
       "      <th>min</th>\n",
       "      <td>-6099.000000</td>\n",
       "      <td>1.000000</td>\n",
       "      <td>0.000000</td>\n",
       "    </tr>\n",
       "    <tr>\n",
       "      <th>25%</th>\n",
       "      <td>35.000000</td>\n",
       "      <td>1.000000</td>\n",
       "      <td>0.000000</td>\n",
       "    </tr>\n",
       "    <tr>\n",
       "      <th>50%</th>\n",
       "      <td>41.000000</td>\n",
       "      <td>1.000000</td>\n",
       "      <td>0.000000</td>\n",
       "    </tr>\n",
       "    <tr>\n",
       "      <th>75%</th>\n",
       "      <td>50.000000</td>\n",
       "      <td>1.000000</td>\n",
       "      <td>0.000000</td>\n",
       "    </tr>\n",
       "    <tr>\n",
       "      <th>max</th>\n",
       "      <td>320.000000</td>\n",
       "      <td>10.000000</td>\n",
       "      <td>1.000000</td>\n",
       "    </tr>\n",
       "  </tbody>\n",
       "</table>\n",
       "</div>"
      ],
      "text/plain": [
       "                Age        No_Pol        target\n",
       "count  12079.000000  12079.000000  12079.000000\n",
       "mean      42.234539      1.307227      0.120457\n",
       "std       97.492565      0.733085      0.325509\n",
       "min    -6099.000000      1.000000      0.000000\n",
       "25%       35.000000      1.000000      0.000000\n",
       "50%       41.000000      1.000000      0.000000\n",
       "75%       50.000000      1.000000      0.000000\n",
       "max      320.000000     10.000000      1.000000"
      ]
     },
     "execution_count": 6,
     "metadata": {},
     "output_type": "execute_result"
    }
   ],
   "source": [
    "train.describe()"
   ]
  },
  {
   "cell_type": "markdown",
   "id": "053131bf",
   "metadata": {
    "papermill": {
     "duration": 0.050187,
     "end_time": "2021-07-12T11:23:50.592537",
     "exception": false,
     "start_time": "2021-07-12T11:23:50.542350",
     "status": "completed"
    },
    "tags": []
   },
   "source": [
    "\n"
   ]
  },
  {
   "cell_type": "code",
   "execution_count": null,
   "id": "654fd829",
   "metadata": {
    "papermill": {
     "duration": 0.050111,
     "end_time": "2021-07-12T11:23:50.692418",
     "exception": false,
     "start_time": "2021-07-12T11:23:50.642307",
     "status": "completed"
    },
    "tags": []
   },
   "outputs": [],
   "source": []
  },
  {
   "cell_type": "markdown",
   "id": "77ad22b5",
   "metadata": {
    "papermill": {
     "duration": 0.049855,
     "end_time": "2021-07-12T11:23:50.791982",
     "exception": false,
     "start_time": "2021-07-12T11:23:50.742127",
     "status": "completed"
    },
    "tags": []
   },
   "source": [
    "## Exploratory data analysis"
   ]
  },
  {
   "cell_type": "code",
   "execution_count": 7,
   "id": "a11ca88d",
   "metadata": {
    "execution": {
     "iopub.execute_input": "2021-07-12T11:23:50.897211Z",
     "iopub.status.busy": "2021-07-12T11:23:50.896125Z",
     "iopub.status.idle": "2021-07-12T11:23:50.920782Z",
     "shell.execute_reply": "2021-07-12T11:23:50.920229Z",
     "shell.execute_reply.started": "2021-07-12T02:18:47.580037Z"
    },
    "papermill": {
     "duration": 0.078934,
     "end_time": "2021-07-12T11:23:50.920920",
     "exception": false,
     "start_time": "2021-07-12T11:23:50.841986",
     "status": "completed"
    },
    "tags": []
   },
   "outputs": [
    {
     "name": "stdout",
     "output_type": "stream",
     "text": [
      "<class 'pandas.core.frame.DataFrame'>\n",
      "RangeIndex: 12079 entries, 0 to 12078\n",
      "Data columns (total 14 columns):\n",
      " #   Column                  Non-Null Count  Dtype         \n",
      "---  ------                  --------------  -----         \n",
      " 0   ID                      12079 non-null  object        \n",
      " 1   Policy Start Date       12079 non-null  datetime64[ns]\n",
      " 2   Policy End Date         12079 non-null  datetime64[ns]\n",
      " 3   Gender                  11720 non-null  object        \n",
      " 4   Age                     12079 non-null  int64         \n",
      " 5   First Transaction Date  12079 non-null  datetime64[ns]\n",
      " 6   No_Pol                  12079 non-null  int64         \n",
      " 7   Car_Category            8341 non-null   object        \n",
      " 8   Subject_Car_Colour      5117 non-null   object        \n",
      " 9   Subject_Car_Make        9603 non-null   object        \n",
      " 10  LGA_Name                5603 non-null   object        \n",
      " 11  State                   5591 non-null   object        \n",
      " 12  ProductName             12079 non-null  object        \n",
      " 13  target                  12079 non-null  int64         \n",
      "dtypes: datetime64[ns](3), int64(3), object(8)\n",
      "memory usage: 1.3+ MB\n"
     ]
    }
   ],
   "source": [
    "train.info()"
   ]
  },
  {
   "cell_type": "code",
   "execution_count": 8,
   "id": "7196c96a",
   "metadata": {
    "execution": {
     "iopub.execute_input": "2021-07-12T11:23:51.028594Z",
     "iopub.status.busy": "2021-07-12T11:23:51.027621Z",
     "iopub.status.idle": "2021-07-12T11:23:51.031974Z",
     "shell.execute_reply": "2021-07-12T11:23:51.031451Z",
     "shell.execute_reply.started": "2021-07-12T02:18:47.60667Z"
    },
    "papermill": {
     "duration": 0.060192,
     "end_time": "2021-07-12T11:23:51.032116",
     "exception": false,
     "start_time": "2021-07-12T11:23:50.971924",
     "status": "completed"
    },
    "tags": []
   },
   "outputs": [
    {
     "data": {
      "text/plain": [
       "(12079, 14)"
      ]
     },
     "execution_count": 8,
     "metadata": {},
     "output_type": "execute_result"
    }
   ],
   "source": [
    "train.shape"
   ]
  },
  {
   "cell_type": "code",
   "execution_count": 9,
   "id": "cbb56f6b",
   "metadata": {
    "execution": {
     "iopub.execute_input": "2021-07-12T11:23:51.139227Z",
     "iopub.status.busy": "2021-07-12T11:23:51.138357Z",
     "iopub.status.idle": "2021-07-12T11:23:51.142435Z",
     "shell.execute_reply": "2021-07-12T11:23:51.141822Z",
     "shell.execute_reply.started": "2021-07-12T02:18:47.613129Z"
    },
    "papermill": {
     "duration": 0.060527,
     "end_time": "2021-07-12T11:23:51.142571",
     "exception": false,
     "start_time": "2021-07-12T11:23:51.082044",
     "status": "completed"
    },
    "tags": []
   },
   "outputs": [
    {
     "data": {
      "text/plain": [
       "(1202, 13)"
      ]
     },
     "execution_count": 9,
     "metadata": {},
     "output_type": "execute_result"
    }
   ],
   "source": [
    "test.shape"
   ]
  },
  {
   "cell_type": "code",
   "execution_count": null,
   "id": "f1987f0b",
   "metadata": {
    "papermill": {
     "duration": 0.050088,
     "end_time": "2021-07-12T11:23:51.242984",
     "exception": false,
     "start_time": "2021-07-12T11:23:51.192896",
     "status": "completed"
    },
    "tags": []
   },
   "outputs": [],
   "source": []
  },
  {
   "cell_type": "markdown",
   "id": "21ad1276",
   "metadata": {
    "papermill": {
     "duration": 0.049941,
     "end_time": "2021-07-12T11:23:51.343110",
     "exception": false,
     "start_time": "2021-07-12T11:23:51.293169",
     "status": "completed"
    },
    "tags": []
   },
   "source": [
    "## Dropping some columns"
   ]
  },
  {
   "cell_type": "code",
   "execution_count": 10,
   "id": "3327b791",
   "metadata": {
    "execution": {
     "iopub.execute_input": "2021-07-12T11:23:51.452099Z",
     "iopub.status.busy": "2021-07-12T11:23:51.451446Z",
     "iopub.status.idle": "2021-07-12T11:23:51.454061Z",
     "shell.execute_reply": "2021-07-12T11:23:51.453463Z",
     "shell.execute_reply.started": "2021-07-12T02:20:41.646743Z"
    },
    "papermill": {
     "duration": 0.060777,
     "end_time": "2021-07-12T11:23:51.454206",
     "exception": false,
     "start_time": "2021-07-12T11:23:51.393429",
     "status": "completed"
    },
    "tags": []
   },
   "outputs": [],
   "source": [
    "y=train['target'] # target columns\n",
    "train = train.drop(['target','ID','Subject_Car_Colour','First Transaction Date'],axis=1)\n",
    "test = test.drop(['ID','Subject_Car_Colour','First Transaction Date'],axis=1)"
   ]
  },
  {
   "cell_type": "markdown",
   "id": "6ad4e9f4",
   "metadata": {
    "papermill": {
     "duration": 0.049838,
     "end_time": "2021-07-12T11:23:51.553887",
     "exception": false,
     "start_time": "2021-07-12T11:23:51.504049",
     "status": "completed"
    },
    "tags": []
   },
   "source": [
    "### Concatenation of both train and test dataset"
   ]
  },
  {
   "cell_type": "code",
   "execution_count": 11,
   "id": "0a5f291b",
   "metadata": {
    "execution": {
     "iopub.execute_input": "2021-07-12T11:23:51.656698Z",
     "iopub.status.busy": "2021-07-12T11:23:51.656049Z",
     "iopub.status.idle": "2021-07-12T11:23:51.670776Z",
     "shell.execute_reply": "2021-07-12T11:23:51.670086Z",
     "shell.execute_reply.started": "2021-07-12T02:20:41.685829Z"
    },
    "papermill": {
     "duration": 0.067049,
     "end_time": "2021-07-12T11:23:51.670930",
     "exception": false,
     "start_time": "2021-07-12T11:23:51.603881",
     "status": "completed"
    },
    "tags": []
   },
   "outputs": [
    {
     "name": "stdout",
     "output_type": "stream",
     "text": [
      "train shape (12079, 11)\n",
      "test shape (1202, 11)\n",
      "data shape (13281, 11)\n"
     ]
    }
   ],
   "source": [
    "train['source'] ='train'\n",
    "test['source'] ='test' # creating a new column to distinguish between train and test\n",
    "\n",
    "df =pd.concat([train,test],ignore_index=True,sort=False)\n",
    "print('train shape',train.shape)\n",
    "print('test shape',test.shape)\n",
    "print('data shape',df.shape)"
   ]
  },
  {
   "cell_type": "markdown",
   "id": "3e7e8c33",
   "metadata": {
    "papermill": {
     "duration": 0.056088,
     "end_time": "2021-07-12T11:23:51.778451",
     "exception": false,
     "start_time": "2021-07-12T11:23:51.722363",
     "status": "completed"
    },
    "tags": []
   },
   "source": [
    "## Data cleaning and Feature extraction"
   ]
  },
  {
   "cell_type": "markdown",
   "id": "8737a9b6",
   "metadata": {
    "papermill": {
     "duration": 0.056486,
     "end_time": "2021-07-12T11:23:51.894241",
     "exception": false,
     "start_time": "2021-07-12T11:23:51.837755",
     "status": "completed"
    },
    "tags": []
   },
   "source": [
    "#### Dealing with outliers in the age column by replacing them with null value"
   ]
  },
  {
   "cell_type": "code",
   "execution_count": 12,
   "id": "a949060b",
   "metadata": {
    "execution": {
     "iopub.execute_input": "2021-07-12T11:23:52.010238Z",
     "iopub.status.busy": "2021-07-12T11:23:52.009609Z",
     "iopub.status.idle": "2021-07-12T11:23:52.038109Z",
     "shell.execute_reply": "2021-07-12T11:23:52.037117Z",
     "shell.execute_reply.started": "2021-07-12T02:20:41.809982Z"
    },
    "papermill": {
     "duration": 0.092277,
     "end_time": "2021-07-12T11:23:52.038386",
     "exception": false,
     "start_time": "2021-07-12T11:23:51.946109",
     "status": "completed"
    },
    "tags": []
   },
   "outputs": [],
   "source": [
    "df['Age'] = np.where(df['Age'].between(-6099,1), np.NaN, df['Age'])\n",
    "df['Age'] = np.where(df['Age'].between(90,320), np.NaN, df['Age'])"
   ]
  },
  {
   "cell_type": "code",
   "execution_count": 13,
   "id": "b2a9f133",
   "metadata": {
    "execution": {
     "iopub.execute_input": "2021-07-12T11:23:52.156684Z",
     "iopub.status.busy": "2021-07-12T11:23:52.155959Z",
     "iopub.status.idle": "2021-07-12T11:23:52.160910Z",
     "shell.execute_reply": "2021-07-12T11:23:52.160365Z",
     "shell.execute_reply.started": "2021-07-12T02:20:41.837506Z"
    },
    "papermill": {
     "duration": 0.058395,
     "end_time": "2021-07-12T11:23:52.161064",
     "exception": false,
     "start_time": "2021-07-12T11:23:52.102669",
     "status": "completed"
    },
    "tags": []
   },
   "outputs": [],
   "source": [
    "# df['Age'] = df.Age.fillna(-9999)"
   ]
  },
  {
   "cell_type": "code",
   "execution_count": 14,
   "id": "5cad50b8",
   "metadata": {
    "execution": {
     "iopub.execute_input": "2021-07-12T11:23:52.272034Z",
     "iopub.status.busy": "2021-07-12T11:23:52.270732Z",
     "iopub.status.idle": "2021-07-12T11:23:52.288119Z",
     "shell.execute_reply": "2021-07-12T11:23:52.288681Z",
     "shell.execute_reply.started": "2021-07-12T02:20:41.84572Z"
    },
    "papermill": {
     "duration": 0.076585,
     "end_time": "2021-07-12T11:23:52.288858",
     "exception": false,
     "start_time": "2021-07-12T11:23:52.212273",
     "status": "completed"
    },
    "tags": []
   },
   "outputs": [
    {
     "data": {
      "text/html": [
       "<div>\n",
       "<style scoped>\n",
       "    .dataframe tbody tr th:only-of-type {\n",
       "        vertical-align: middle;\n",
       "    }\n",
       "\n",
       "    .dataframe tbody tr th {\n",
       "        vertical-align: top;\n",
       "    }\n",
       "\n",
       "    .dataframe thead th {\n",
       "        text-align: right;\n",
       "    }\n",
       "</style>\n",
       "<table border=\"1\" class=\"dataframe\">\n",
       "  <thead>\n",
       "    <tr style=\"text-align: right;\">\n",
       "      <th></th>\n",
       "      <th>Age</th>\n",
       "      <th>No_Pol</th>\n",
       "    </tr>\n",
       "  </thead>\n",
       "  <tbody>\n",
       "    <tr>\n",
       "      <th>count</th>\n",
       "      <td>12570.0000</td>\n",
       "      <td>13281.000000</td>\n",
       "    </tr>\n",
       "    <tr>\n",
       "      <th>mean</th>\n",
       "      <td>41.9035</td>\n",
       "      <td>1.302763</td>\n",
       "    </tr>\n",
       "    <tr>\n",
       "      <th>std</th>\n",
       "      <td>12.8081</td>\n",
       "      <td>0.723195</td>\n",
       "    </tr>\n",
       "    <tr>\n",
       "      <th>min</th>\n",
       "      <td>2.0000</td>\n",
       "      <td>1.000000</td>\n",
       "    </tr>\n",
       "    <tr>\n",
       "      <th>25%</th>\n",
       "      <td>35.0000</td>\n",
       "      <td>1.000000</td>\n",
       "    </tr>\n",
       "    <tr>\n",
       "      <th>50%</th>\n",
       "      <td>40.0000</td>\n",
       "      <td>1.000000</td>\n",
       "    </tr>\n",
       "    <tr>\n",
       "      <th>75%</th>\n",
       "      <td>49.0000</td>\n",
       "      <td>1.000000</td>\n",
       "    </tr>\n",
       "    <tr>\n",
       "      <th>max</th>\n",
       "      <td>89.0000</td>\n",
       "      <td>10.000000</td>\n",
       "    </tr>\n",
       "  </tbody>\n",
       "</table>\n",
       "</div>"
      ],
      "text/plain": [
       "              Age        No_Pol\n",
       "count  12570.0000  13281.000000\n",
       "mean      41.9035      1.302763\n",
       "std       12.8081      0.723195\n",
       "min        2.0000      1.000000\n",
       "25%       35.0000      1.000000\n",
       "50%       40.0000      1.000000\n",
       "75%       49.0000      1.000000\n",
       "max       89.0000     10.000000"
      ]
     },
     "execution_count": 14,
     "metadata": {},
     "output_type": "execute_result"
    }
   ],
   "source": [
    "df.describe()# checking the effect of the cleaning"
   ]
  },
  {
   "cell_type": "code",
   "execution_count": 15,
   "id": "635a81ae",
   "metadata": {
    "execution": {
     "iopub.execute_input": "2021-07-12T11:23:52.396598Z",
     "iopub.status.busy": "2021-07-12T11:23:52.395652Z",
     "iopub.status.idle": "2021-07-12T11:23:52.401717Z",
     "shell.execute_reply": "2021-07-12T11:23:52.402332Z",
     "shell.execute_reply.started": "2021-07-12T02:20:41.876908Z"
    },
    "papermill": {
     "duration": 0.061196,
     "end_time": "2021-07-12T11:23:52.402507",
     "exception": false,
     "start_time": "2021-07-12T11:23:52.341311",
     "status": "completed"
    },
    "tags": []
   },
   "outputs": [
    {
     "data": {
      "text/plain": [
       "Index(['Policy Start Date', 'Policy End Date', 'Gender', 'Age', 'No_Pol',\n",
       "       'Car_Category', 'Subject_Car_Make', 'LGA_Name', 'State', 'ProductName',\n",
       "       'source'],\n",
       "      dtype='object')"
      ]
     },
     "execution_count": 15,
     "metadata": {},
     "output_type": "execute_result"
    }
   ],
   "source": [
    "df.columns"
   ]
  },
  {
   "cell_type": "code",
   "execution_count": 16,
   "id": "01491d46",
   "metadata": {
    "execution": {
     "iopub.execute_input": "2021-07-12T11:23:52.519003Z",
     "iopub.status.busy": "2021-07-12T11:23:52.518218Z",
     "iopub.status.idle": "2021-07-12T11:23:52.520980Z",
     "shell.execute_reply": "2021-07-12T11:23:52.521507Z",
     "shell.execute_reply.started": "2021-07-12T02:20:41.883495Z"
    },
    "papermill": {
     "duration": 0.067117,
     "end_time": "2021-07-12T11:23:52.521677",
     "exception": false,
     "start_time": "2021-07-12T11:23:52.454560",
     "status": "completed"
    },
    "tags": []
   },
   "outputs": [
    {
     "data": {
      "text/plain": [
       "TOYOTA      5466\n",
       "Honda       1146\n",
       "Lexus        654\n",
       "Mercedes     577\n",
       "Hyundai      512\n",
       "            ... \n",
       "MG             1\n",
       "Lincoln        1\n",
       "Yamaha         1\n",
       "Raston         1\n",
       "CHANGAN        1\n",
       "Name: Subject_Car_Make, Length: 75, dtype: int64"
      ]
     },
     "execution_count": 16,
     "metadata": {},
     "output_type": "execute_result"
    }
   ],
   "source": [
    "df.Subject_Car_Make.value_counts()"
   ]
  },
  {
   "cell_type": "code",
   "execution_count": 17,
   "id": "7ca92647",
   "metadata": {
    "execution": {
     "iopub.execute_input": "2021-07-12T11:23:52.629045Z",
     "iopub.status.busy": "2021-07-12T11:23:52.628426Z",
     "iopub.status.idle": "2021-07-12T11:23:52.656948Z",
     "shell.execute_reply": "2021-07-12T11:23:52.657434Z",
     "shell.execute_reply.started": "2021-07-12T02:20:41.99154Z"
    },
    "papermill": {
     "duration": 0.083675,
     "end_time": "2021-07-12T11:23:52.657622",
     "exception": false,
     "start_time": "2021-07-12T11:23:52.573947",
     "status": "completed"
    },
    "tags": []
   },
   "outputs": [],
   "source": [
    "####  Extracting columns from the date columns\n",
    "\n",
    "date_columns = ['Policy Start Date','Policy End Date']\n",
    "# creating a function to extract the year, day, month and quarter\n",
    "def extract_date_info(df,cols,):\n",
    "    for feat in cols:\n",
    "        df[feat +'_year'] = df[feat].dt.year\n",
    "        df[feat +'_day'] = df[feat].dt.day\n",
    "        df[feat +'_month'] = df[feat].dt.month\n",
    "        df[feat +'_quarter'] = df[feat].dt.quarter\n",
    "    df.drop(columns=date_columns,axis=1,inplace=True)\n",
    "    \n",
    "extract_date_info(df,date_columns)"
   ]
  },
  {
   "cell_type": "code",
   "execution_count": 18,
   "id": "3e1c37d9",
   "metadata": {
    "execution": {
     "iopub.execute_input": "2021-07-12T11:23:52.764818Z",
     "iopub.status.busy": "2021-07-12T11:23:52.764180Z",
     "iopub.status.idle": "2021-07-12T11:23:52.767128Z",
     "shell.execute_reply": "2021-07-12T11:23:52.767636Z",
     "shell.execute_reply.started": "2021-07-12T02:20:42.02789Z"
    },
    "papermill": {
     "duration": 0.058313,
     "end_time": "2021-07-12T11:23:52.767804",
     "exception": false,
     "start_time": "2021-07-12T11:23:52.709491",
     "status": "completed"
    },
    "tags": []
   },
   "outputs": [],
   "source": [
    "# df = df[df['Policy Start Date_year']==2010 ]"
   ]
  },
  {
   "cell_type": "code",
   "execution_count": 19,
   "id": "54d29da8",
   "metadata": {
    "execution": {
     "iopub.execute_input": "2021-07-12T11:23:52.875872Z",
     "iopub.status.busy": "2021-07-12T11:23:52.875202Z",
     "iopub.status.idle": "2021-07-12T11:23:52.878216Z",
     "shell.execute_reply": "2021-07-12T11:23:52.878702Z",
     "shell.execute_reply.started": "2021-07-12T02:20:42.03665Z"
    },
    "papermill": {
     "duration": 0.058011,
     "end_time": "2021-07-12T11:23:52.878881",
     "exception": false,
     "start_time": "2021-07-12T11:23:52.820870",
     "status": "completed"
    },
    "tags": []
   },
   "outputs": [],
   "source": [
    "#### Replacing the some categories in the gender column with null values"
   ]
  },
  {
   "cell_type": "code",
   "execution_count": 20,
   "id": "e26a3f0f",
   "metadata": {
    "execution": {
     "iopub.execute_input": "2021-07-12T11:23:52.987884Z",
     "iopub.status.busy": "2021-07-12T11:23:52.987226Z",
     "iopub.status.idle": "2021-07-12T11:23:53.000331Z",
     "shell.execute_reply": "2021-07-12T11:23:53.000820Z",
     "shell.execute_reply.started": "2021-07-12T02:20:42.045328Z"
    },
    "papermill": {
     "duration": 0.070127,
     "end_time": "2021-07-12T11:23:53.001007",
     "exception": false,
     "start_time": "2021-07-12T11:23:52.930880",
     "status": "completed"
    },
    "tags": []
   },
   "outputs": [],
   "source": [
    "df['Gender'] =df['Gender'].replace({\"NO GENDER\": \"NOT STATED\",\n",
    "                                                   \"SEX\": np.NaN,\"NO GENDER\": np.NaN,'Joint Gender': np.NaN,'Entity':np.NaN})\n",
    "df['Gender'].fillna(np.NaN, inplace=True)\n"
   ]
  },
  {
   "cell_type": "code",
   "execution_count": 21,
   "id": "ffd0d22b",
   "metadata": {
    "execution": {
     "iopub.execute_input": "2021-07-12T11:23:53.112009Z",
     "iopub.status.busy": "2021-07-12T11:23:53.111343Z",
     "iopub.status.idle": "2021-07-12T11:23:53.118903Z",
     "shell.execute_reply": "2021-07-12T11:23:53.119393Z",
     "shell.execute_reply.started": "2021-07-12T02:20:42.065454Z"
    },
    "papermill": {
     "duration": 0.065701,
     "end_time": "2021-07-12T11:23:53.119588",
     "exception": false,
     "start_time": "2021-07-12T11:23:53.053887",
     "status": "completed"
    },
    "tags": []
   },
   "outputs": [
    {
     "data": {
      "text/plain": [
       "2011    13096\n",
       "2010      177\n",
       "2016        2\n",
       "2041        2\n",
       "2012        2\n",
       "2034        1\n",
       "2037        1\n",
       "Name: Policy End Date_year, dtype: int64"
      ]
     },
     "execution_count": 21,
     "metadata": {},
     "output_type": "execute_result"
    }
   ],
   "source": [
    "df['Policy End Date_year'].value_counts()"
   ]
  },
  {
   "cell_type": "code",
   "execution_count": 22,
   "id": "c87f35db",
   "metadata": {
    "execution": {
     "iopub.execute_input": "2021-07-12T11:23:53.229319Z",
     "iopub.status.busy": "2021-07-12T11:23:53.228631Z",
     "iopub.status.idle": "2021-07-12T11:23:53.231367Z",
     "shell.execute_reply": "2021-07-12T11:23:53.230838Z",
     "shell.execute_reply.started": "2021-07-12T02:20:42.073806Z"
    },
    "papermill": {
     "duration": 0.058765,
     "end_time": "2021-07-12T11:23:53.231505",
     "exception": false,
     "start_time": "2021-07-12T11:23:53.172740",
     "status": "completed"
    },
    "tags": []
   },
   "outputs": [],
   "source": [
    "#### Noticed outliers in df['Policy End Date_year'] column and replacing the outliers with null values"
   ]
  },
  {
   "cell_type": "code",
   "execution_count": 23,
   "id": "844e5bf2",
   "metadata": {
    "execution": {
     "iopub.execute_input": "2021-07-12T11:23:53.340785Z",
     "iopub.status.busy": "2021-07-12T11:23:53.340133Z",
     "iopub.status.idle": "2021-07-12T11:23:53.343258Z",
     "shell.execute_reply": "2021-07-12T11:23:53.343895Z",
     "shell.execute_reply.started": "2021-07-12T02:20:42.080146Z"
    },
    "papermill": {
     "duration": 0.060754,
     "end_time": "2021-07-12T11:23:53.344069",
     "exception": false,
     "start_time": "2021-07-12T11:23:53.283315",
     "status": "completed"
    },
    "tags": []
   },
   "outputs": [],
   "source": [
    "df['Policy End Date_year'] = np.where(df['Policy End Date_year'].between(2015,2041), np.NaN, df['Policy End Date_year'])"
   ]
  },
  {
   "cell_type": "code",
   "execution_count": 24,
   "id": "dffc244e",
   "metadata": {
    "execution": {
     "iopub.execute_input": "2021-07-12T11:23:53.450519Z",
     "iopub.status.busy": "2021-07-12T11:23:53.449910Z",
     "iopub.status.idle": "2021-07-12T11:23:53.458175Z",
     "shell.execute_reply": "2021-07-12T11:23:53.457687Z",
     "shell.execute_reply.started": "2021-07-12T02:20:42.094539Z"
    },
    "papermill": {
     "duration": 0.062358,
     "end_time": "2021-07-12T11:23:53.458331",
     "exception": false,
     "start_time": "2021-07-12T11:23:53.395973",
     "status": "completed"
    },
    "tags": []
   },
   "outputs": [
    {
     "data": {
      "text/plain": [
       "array([nan, 'Lagos', 'Benue', 'Eti-Osa', 'Delta', 'Ogun',\n",
       "       'Abuja-Municipal', 'Oshodi-Isolo', 'Ibeju-Lekki', 'Ibadan-West',\n",
       "       'Obia-Akpor', 'Ibadan-East', 'Kaduna-South', 'Amuwo-Odofin',\n",
       "       'Anambra', 'Rivers', 'Niger-State', 'Edo', 'Akwa-Ibom',\n",
       "       'ENUGU-EAST', 'Abuja', 'Kaduna', 'Esan-West', 'Obafemi-Owode',\n",
       "       'Orile-Iganmu', 'Ifako-Ijaye', 'Ibadan-North', 'Imo', 'Jos-North',\n",
       "       'Ondo-West', 'Kaduna-North', 'Aniocha-South', 'Awka-South',\n",
       "       'Ile-Oluji', 'Ijebu-Ode', 'Port-Harcourt', 'Nnewi-North',\n",
       "       'Aboh-Mbaise', 'Oyo', 'Akoko-West', 'Warri-Central', 'Cross-River',\n",
       "       'Jos-South', 'Onitsha-North', 'Osun', 'Ajeromi-Ifelodun',\n",
       "       'Kano-Municipal', 'Ife-Central', 'Ilorin-West', 'Lagelu-North',\n",
       "       'Owerri-Municipal', 'Nsit-Ubium', 'Udi-Agwu', 'Essien-Udim',\n",
       "       'Owerri-West', 'Ondo', 'Ogbmosho-South', 'Umuahia-South',\n",
       "       'ABULE-EGBA', 'Enugu-North', 'Ovia-SouthWest', 'Kebbi',\n",
       "       'Ajegunle-State', 'Ekiti-West', 'Ogun-Waterside', 'Ife-North',\n",
       "       'Anambra-East', 'Nasarawa', 'Etsako-West', 'Kwara', 'Aba-North',\n",
       "       'Awka-North', 'Ibarapa-Central', 'Idemili-North', 'Ogba-Ndoni',\n",
       "       'Calabar-Municipality', 'AJAO-ESTATE', 'Ekiti-East', 'Gombe',\n",
       "       'Bayelsa', 'Ado-Ota', 'Oyo-East', 'Ilorin-East', 'Ilesha-West',\n",
       "       'Central-Abuja', 'Kano', 'Owerri-North', 'Abia', 'Kogi',\n",
       "       'Ilesha-East', 'Esan-Central', 'Isoko-south', 'Ethiope-East',\n",
       "       'QuaAn-Pan', 'Warri-North', 'Ado-Ekiti', 'Bauchi', 'Ijebu-East',\n",
       "       'Onitsha-South', 'Ughelli-North', 'Warri-South', 'Ebonyi',\n",
       "       'Oyo-West', 'Aba-South', 'N-A', 'Isoko-North', 'Oshimili-North',\n",
       "       'Ndokwa-East', 'Nnewi-South', 'ENUGU-SOUTH', 'Ijebu-North',\n",
       "       'Asari-Toru', 'Idemili-south', 'Ngor-Okpala'], dtype=object)"
      ]
     },
     "execution_count": 24,
     "metadata": {},
     "output_type": "execute_result"
    }
   ],
   "source": [
    "## Checking the state columns\n",
    "df.State.unique()"
   ]
  },
  {
   "cell_type": "code",
   "execution_count": 25,
   "id": "8dbb66d2",
   "metadata": {
    "execution": {
     "iopub.execute_input": "2021-07-12T11:23:53.577368Z",
     "iopub.status.busy": "2021-07-12T11:23:53.576673Z",
     "iopub.status.idle": "2021-07-12T11:23:53.630524Z",
     "shell.execute_reply": "2021-07-12T11:23:53.630996Z",
     "shell.execute_reply.started": "2021-07-12T02:20:42.106175Z"
    },
    "papermill": {
     "duration": 0.120173,
     "end_time": "2021-07-12T11:23:53.631191",
     "exception": false,
     "start_time": "2021-07-12T11:23:53.511018",
     "status": "completed"
    },
    "tags": []
   },
   "outputs": [],
   "source": [
    "## Replacing the states with the corrected details to reduce the reduce the number of categorical features and for a cleaner cstegorical column\n",
    "df['State'] = df['State'].replace({'Abuja-Municipal':'Federal Capital Territory','Oshodi-Isolo':'Lagos','Ibeju-Lekki':'Lagos','Ibadan-West':'Ibadan','Eti-Osa':'Lagos'\n",
    "                                        ,'Obia-Akpor':'Awka-Ibom','Ibadan-East':'Oyo','Amuwo-Odofin':'Lagos','ENUGU-EAST':'Enugu','Esan-West':'Edo'\n",
    "                                         ,'Obafemi-Owode':'Ogun','Orile-Iganmu':'Lagos', 'Ifako-Ijaye':'Lagos', 'Ibadan-North':'Oyo',\n",
    "                                         'Jos-North':'Plateau'\n",
    "                                        , 'Ondo-West':'Ondo', 'Kaduna-North':'Kaduna','Aniocha-South':'Delta','Ile-Oluji':'Ondo','Nnewi-North':'Anambra'\n",
    "                                        ,'Aboh-Mbaise':'Imo', 'Akoko-West':'Ondo','Warri-Central':'Edo', 'Jos-South':'Plateus','Onitsha-North':'Anambra'\n",
    "                                        , 'Ajeromi-Ifelodun':'Osun', 'Kano-Municipal':'Kano','Ife-Central':'Osun','Ilorin-West':'Kwara'\n",
    "                                         ,'Lagelu-North':'Oyo', 'Owerri-Municipal':'Imo','Nsit-Ubium':'Awka-Ibom', 'Udi-Agwu':'Enugu',\n",
    "                                         'Owerri-West':'Imo'\n",
    "                                         ,'Ogbmosho-South':'Oyo', 'Umuahia-South':'Abia','Ajegunle-State':'Lagos','Ekiti-West':'Ekiti',\n",
    "                                         'Ogun-Waterside':'Ogun'\n",
    "                                        ,'Awka-North':'Anambra','ABULE-EGBA':'Lagos','Ife-North':'Osun', 'Anambra-East':'Anambra', 'Etsako-West':'Edo'\n",
    "                                         ,'Aba-North':'Abia','Ibarapa-Central':'Oyo', 'Idemili-North':'Anambra', 'Ogba-Ndoni':'Rivers', \n",
    "                                         'Calabar-Municipality':'Cross-River','AJAO-ESTATE':'Lagos','Ekiti-East':'Ekiti',\n",
    "                                         'Ovia-SouthWest':'Edo','Essien-Udim':'Akwa-Ibom',\n",
    "                                         'Ado-Ota':'Ogun', 'Oyo-East':'Oyo', 'Ilorin-East':'Kwara', 'Ilesha-West':'Osun', 'Central-Abuja':'Federal Capital Territory',\n",
    "                                         'Owerri-North':'Imo','Ilesha-East':'Osun', 'Awka-South':'Delta','Enugu-North':'Enugu','Ibadan':'Oyo',\n",
    "                                         'Esan-Central':'Edo', 'Isoko-south':'Delta', 'Ethiope-East':'Delta','Ijebu-Ode':'Ogun'\n",
    "                                         ,'QuaAn-Pan':'Plateus', 'Warri-North':'Delta', 'Ado-Ekiti':'Ekiti', 'Ijebu-East':'Ogun',\n",
    "                                         'Onitsha-South':'Anambra', 'Ughelli-North':'Delta', 'Warri-South':'Delta', 'Kaduna-South':'Kaduna',\n",
    "                                         'Port-Harcourt':'Rivers', 'N-A':np.NaN, 'Idemili-south': 'Anambra', 'Ngor-Okpala':'Imo',\n",
    "      \n",
    "                                         'Oyo-West':'Oyo', 'Aba-South':'Abia', 'Isoko-North':'Delta', 'Oshimili-North':'Delta',\n",
    "                                         'Ndokwa-East':'Delta', 'Nnewi-South':'Anambra', 'ENUGU-SOUTH':'Enugu', 'Ijebu-North':'Ogun',\n",
    "                                         'Asari-Toru':'Rivers', 'Akwa-Ibom':'Awka-Ibom'})\n",
    "df.State.fillna(np.NaN,inplace =True)"
   ]
  },
  {
   "cell_type": "markdown",
   "id": "3a4de8d3",
   "metadata": {
    "papermill": {
     "duration": 0.05189,
     "end_time": "2021-07-12T11:23:53.735388",
     "exception": false,
     "start_time": "2021-07-12T11:23:53.683498",
     "status": "completed"
    },
    "tags": []
   },
   "source": [
    "df['LGA_Name']=df.LGA_Name.replace({'LGA':np.NaN,'Victoria Island':'Eti-Osa','Ikoyi':'Eti-Osa','Yaba':'Lagos Mainland'\n",
    "                                         ,'GBAGADA':'Kosofe','ISHERI':'Kosofe','OBANIKORO':'Shomolu','Ebute-Metta':'Lagos Mainland'\n",
    "                                         ,'Lekki':'Ibeju/Lekki', 'Festac':'Amuwo-Odofin', 'Ipaja':'Alimosho','Egbeda':'Ikeja',\n",
    "                                          'Orile-Iganmu':'Surulere','Alagbado':'Alimosho',\n",
    "                                          'Ajegunle,Lagos  State':'Ifako-Ijaiye', 'Dopemu':'Agege', \n",
    "                                           'Akoka':'Shomolu','Ijora':'Apapa', ' IFAKO':'Ifako-Ijaiye'\n",
    "                                         ,'Ejigbo':'Oshodi-Isolo','AJAO ESTATE':'Oshodi-Isolo', 'Ikotun':'Alimosho',\n",
    "                                          'Obalende':'Eti-Osa', 'Central Area, Abuja':'Abuja','Central Area':'Abuja','Central':'Abuja'\n",
    "                                           ,'BARIGA':'Shomolu', 'ONIRU':'Eti-Osa', 'MAGBORO':'Obafemi-Owode','ALAPERE':'Kosofe',\n",
    "                                          'Palm Groove':'Shomolu','Somolu':'Shomolu','OGBA':'Ifako-Ijaiye'\n",
    "                                         ,'Lagos':'Lagos Mainland', 'Ajah':'Eti-Osa','Lagelu Ogbomosho North':'Ogbomosho North',\n",
    "                                         'Ilupeju':'Mushin', 'Anthony Village':'Kosofe', 'Isolo':'Oshodi-Isolo','MAGODO':'Ikeja','Ile-Ife':'Ife Central',\n",
    "                                          'Maryland':'Kosofe','Oshodi':'Oshodi-Isolo','Ketu':'Kosofe','Aguda':'Surulere','ABULE EGBA':'Alimosho',\n",
    "                                          'OJOTA':'Kosofe','Ifako-Ijaye ':'Ifako-Ijaiye','Ikeja G.R.A':'Ikeja','OWODE':'Obafemi-Owode',\n",
    "                                          'Ifako-Ijaye':'Ifako-Ijaiye', 'Ogbmosho South': 'Ogbomosho South','OGUDU':'Ogudu',\n",
    "                                          'ENUGU EAST':'Enugu East','RIVERS':'Rivers','AKOKO-EDO':'Akoko-Edo','Shomulu':'Shomolu'\n",
    "                                          ,'ENUGU SOUTH':'Enugu South','Abuja':'Abuja Municipal', 'OGUN':'Abeokuta','Niger State':'Minna',\n",
    "                                          'Oyo':'IbadanCentral','IBADAN NORTH EAST':'Ibadan North East','Rivers':'Port-Harcourt', 'Akwa Ibom':'Uyo',\n",
    "                                          'SANGOTEDO':'Eti-Osa','EMENE':'Enugu East','EFFURUN':'Uvwie','Asaba': 'Oshimili-North', 'Awka':'Awka South',\n",
    "                                          'Minna':'Chanchaga','Oredo':'Benin','Warri':'Warri South','ONDO':'Akure','Wuse 11':'Abuja Municipal',\n",
    "                                          'AKUTE':'Ifo','Ojodu':'Ikeja','Victoria Island':'Eti-Osa','Ikoyi':'Eti-Osa','Yaba':'Lagos Mainland'\n",
    "                                         ,'GBAGADA':'Kosofe','ISHERI':'Kosofe','OBANIKORO':'Shomolu','Ebute-Metta':'Lagos Mainland'\n",
    "                                         ,'Lekki':'Ibeju/Lekki', 'Festac':'Amuwo-Odofin', 'Ipaja':'Alimosho','Egbeda':'Ikeja',\n",
    "                                          'Orile-Iganmu':'Surulere','Alagbado':'Alimosho',\n",
    "                                          'Ajegunle,Lagos  State':'Ifako-Ijaiye', 'Dopemu':'Agege', \n",
    "                                           'Akoka':'Shomolu','Ijora':'Apapa', ' IFAKO':'Ifako-Ijaiye'\n",
    "                                         ,'Ejigbo':'Oshodi-Isolo','AJAO ESTATE':'Oshodi-Isolo', 'Ikotun':'Alimosho',\n",
    "                                          'Obalende':'Eti-Osa', 'Central Area, Abuja':'Abuja','Central Area':'Abuja','Central':'Abuja'\n",
    "                                           ,'BARIGA':'Shomolu', 'ONIRU':'Eti-Osa', 'MAGBORO':'Obafemi-Owode','ALAPERE':'Kosofe',\n",
    "                                          'Palm Groove':'Shomolu','Somolu':'Shomolu','OGBA':'Ifako-Ijaiye'\n",
    "                                         ,'Lagos':'Lagos Mainland', 'Ajah':'Eti-Osa','Lagelu Ogbomosho North':'Ogbomosho North',\n",
    "                                         'Ilupeju':'Mushin', 'Anthony Village':'Kosofe', 'Isolo':'Oshodi-Isolo','MAGODO':'Ikeja','Ile-Ife':'Ife Central',\n",
    "                                          'Maryland':'Kosofe','Oshodi':'Oshodi-Isolo','Ketu':'Kosofe','Aguda':'Surulere','ABULE EGBA':'Alimosho',\n",
    "                                          'OJOTA':'Kosofe','Ifako-Ijaye ':'Ifako-Ijaiye','Ikeja G.R.A':'Ikeja','OWODE':'Obafemi-Owode',\n",
    "                                          'Ifako-Ijaye':'Ifako-Ijaiye', 'Ogbmosho South': 'Ogbomosho South','OGUDU':'Ogudu',\n",
    "                                          'ENUGU EAST':'Enugu East','RIVERS':'Rivers','AKOKO-EDO':'Akoko-Edo','Shomulu':'Shomolu'\n",
    "                                          ,'ENUGU SOUTH':'Enugu South','Abuja':'Abuja Municipal', 'OGUN':'Abeokuta','Niger State':'Minna',\n",
    "                                          'Oyo':'IbadanCentral','IBADAN NORTH EAST':'Ibadan North East','Rivers':'Port-Harcourt', 'Akwa Ibom':'Uyo',\n",
    "                                          'SANGOTEDO':'Eti-Osa','EMENE':'Enugu East','EFFURUN':'Uvwie','Asaba': 'Oshimili-North', 'Awka':'Awka South',\n",
    "                                          'Minna':'Chanchaga','Oredo':'Benin','Warri':'Warri South','ONDO':'Akure','Wuse 11':'Abuja Municipal',\n",
    "                                          'AKUTE':'Ifo','Ojodu':'Ikeja'\n",
    "                                         })\n",
    "df.LGA_Name.fillna(np.NaN,inplace =True)"
   ]
  },
  {
   "cell_type": "code",
   "execution_count": 26,
   "id": "c77d0c3a",
   "metadata": {
    "execution": {
     "iopub.execute_input": "2021-07-12T11:23:53.842576Z",
     "iopub.status.busy": "2021-07-12T11:23:53.841907Z",
     "iopub.status.idle": "2021-07-12T11:23:53.851771Z",
     "shell.execute_reply": "2021-07-12T11:23:53.851044Z",
     "shell.execute_reply.started": "2021-07-12T02:20:42.174984Z"
    },
    "papermill": {
     "duration": 0.0645,
     "end_time": "2021-07-12T11:23:53.851919",
     "exception": false,
     "start_time": "2021-07-12T11:23:53.787419",
     "status": "completed"
    },
    "tags": []
   },
   "outputs": [],
   "source": [
    "df['LGA_Name']=df.LGA_Name.replace({'LGA':np.NaN})\n",
    "df.LGA_Name.fillna(np.NaN,inplace =True)"
   ]
  },
  {
   "cell_type": "code",
   "execution_count": 27,
   "id": "b1ba98a1",
   "metadata": {
    "execution": {
     "iopub.execute_input": "2021-07-12T11:23:53.971429Z",
     "iopub.status.busy": "2021-07-12T11:23:53.970738Z",
     "iopub.status.idle": "2021-07-12T11:23:53.978933Z",
     "shell.execute_reply": "2021-07-12T11:23:53.978407Z",
     "shell.execute_reply.started": "2021-07-12T02:20:42.185861Z"
    },
    "papermill": {
     "duration": 0.074505,
     "end_time": "2021-07-12T11:23:53.979076",
     "exception": false,
     "start_time": "2021-07-12T11:23:53.904571",
     "status": "completed"
    },
    "tags": []
   },
   "outputs": [
    {
     "data": {
      "text/plain": [
       "Gender                        8.742446\n",
       "Age                           5.886249\n",
       "No_Pol                        0.000000\n",
       "Car_Category                 34.025996\n",
       "Subject_Car_Make             22.551536\n",
       "LGA_Name                     59.152248\n",
       "State                        59.152248\n",
       "ProductName                   0.000000\n",
       "source                        0.000000\n",
       "Policy Start Date_year        0.000000\n",
       "Policy Start Date_day         0.000000\n",
       "Policy Start Date_month       0.000000\n",
       "Policy Start Date_quarter     0.000000\n",
       "Policy End Date_year          0.049673\n",
       "Policy End Date_day           0.000000\n",
       "Policy End Date_month         0.000000\n",
       "Policy End Date_quarter       0.000000\n",
       "dtype: float64"
      ]
     },
     "execution_count": 27,
     "metadata": {},
     "output_type": "execute_result"
    }
   ],
   "source": [
    "df.isnull().sum()/len(train)* 100"
   ]
  },
  {
   "cell_type": "code",
   "execution_count": 28,
   "id": "9bd91abb",
   "metadata": {
    "execution": {
     "iopub.execute_input": "2021-07-12T11:23:54.089764Z",
     "iopub.status.busy": "2021-07-12T11:23:54.089090Z",
     "iopub.status.idle": "2021-07-12T11:23:54.090915Z",
     "shell.execute_reply": "2021-07-12T11:23:54.091454Z",
     "shell.execute_reply.started": "2021-07-12T02:20:42.209191Z"
    },
    "papermill": {
     "duration": 0.058941,
     "end_time": "2021-07-12T11:23:54.091638",
     "exception": false,
     "start_time": "2021-07-12T11:23:54.032697",
     "status": "completed"
    },
    "tags": []
   },
   "outputs": [],
   "source": [
    "### Replacing the null values with their mode"
   ]
  },
  {
   "cell_type": "code",
   "execution_count": 29,
   "id": "7ec7ba37",
   "metadata": {
    "execution": {
     "iopub.execute_input": "2021-07-12T11:23:54.200502Z",
     "iopub.status.busy": "2021-07-12T11:23:54.199852Z",
     "iopub.status.idle": "2021-07-12T11:23:54.225225Z",
     "shell.execute_reply": "2021-07-12T11:23:54.225840Z",
     "shell.execute_reply.started": "2021-07-12T02:20:42.215026Z"
    },
    "papermill": {
     "duration": 0.081451,
     "end_time": "2021-07-12T11:23:54.226021",
     "exception": false,
     "start_time": "2021-07-12T11:23:54.144570",
     "status": "completed"
    },
    "tags": []
   },
   "outputs": [],
   "source": [
    "cat_cols=['State','ProductName','Car_Category','Subject_Car_Make','Gender','LGA_Name']\n",
    "for i in cat_cols:\n",
    "    df[i] = df[i].fillna(df[i].mode()[0])"
   ]
  },
  {
   "cell_type": "code",
   "execution_count": 30,
   "id": "07b9c3dc",
   "metadata": {
    "execution": {
     "iopub.execute_input": "2021-07-12T11:23:54.335049Z",
     "iopub.status.busy": "2021-07-12T11:23:54.334413Z",
     "iopub.status.idle": "2021-07-12T11:23:54.355348Z",
     "shell.execute_reply": "2021-07-12T11:23:54.355884Z",
     "shell.execute_reply.started": "2021-07-12T02:20:42.247974Z"
    },
    "papermill": {
     "duration": 0.077079,
     "end_time": "2021-07-12T11:23:54.356057",
     "exception": false,
     "start_time": "2021-07-12T11:23:54.278978",
     "status": "completed"
    },
    "tags": []
   },
   "outputs": [],
   "source": [
    "### Saving the categorical columns as type category\n",
    "df[cat_cols] = df[cat_cols].astype('category')"
   ]
  },
  {
   "cell_type": "code",
   "execution_count": 31,
   "id": "2e28d38e",
   "metadata": {
    "execution": {
     "iopub.execute_input": "2021-07-12T11:23:54.464709Z",
     "iopub.status.busy": "2021-07-12T11:23:54.464041Z",
     "iopub.status.idle": "2021-07-12T11:23:54.478735Z",
     "shell.execute_reply": "2021-07-12T11:23:54.479267Z",
     "shell.execute_reply.started": "2021-07-12T02:20:42.272488Z"
    },
    "papermill": {
     "duration": 0.070673,
     "end_time": "2021-07-12T11:23:54.479462",
     "exception": false,
     "start_time": "2021-07-12T11:23:54.408789",
     "status": "completed"
    },
    "tags": []
   },
   "outputs": [],
   "source": [
    "## Splitting of the columns back to train and test and dropping the indicator column\n",
    "train = df.loc[df['source']=='train']\n",
    "test = df.loc[df['source']=='test']\n",
    "\n",
    "train.drop('source',axis=1,inplace=True)\n",
    "test.drop('source',axis =1,inplace =True)"
   ]
  },
  {
   "cell_type": "code",
   "execution_count": 32,
   "id": "c8712946",
   "metadata": {
    "execution": {
     "iopub.execute_input": "2021-07-12T11:23:54.590590Z",
     "iopub.status.busy": "2021-07-12T11:23:54.589914Z",
     "iopub.status.idle": "2021-07-12T11:23:54.593383Z",
     "shell.execute_reply": "2021-07-12T11:23:54.594087Z",
     "shell.execute_reply.started": "2021-07-12T02:20:42.288587Z"
    },
    "papermill": {
     "duration": 0.060642,
     "end_time": "2021-07-12T11:23:54.594270",
     "exception": false,
     "start_time": "2021-07-12T11:23:54.533628",
     "status": "completed"
    },
    "tags": []
   },
   "outputs": [],
   "source": [
    "X = train\n",
    "test_new = test"
   ]
  },
  {
   "cell_type": "code",
   "execution_count": 33,
   "id": "fb4e2c65",
   "metadata": {
    "execution": {
     "iopub.execute_input": "2021-07-12T11:23:54.703569Z",
     "iopub.status.busy": "2021-07-12T11:23:54.702854Z",
     "iopub.status.idle": "2021-07-12T11:23:54.708984Z",
     "shell.execute_reply": "2021-07-12T11:23:54.708433Z",
     "shell.execute_reply.started": "2021-07-12T02:20:42.293592Z"
    },
    "papermill": {
     "duration": 0.061546,
     "end_time": "2021-07-12T11:23:54.709125",
     "exception": false,
     "start_time": "2021-07-12T11:23:54.647579",
     "status": "completed"
    },
    "tags": []
   },
   "outputs": [
    {
     "data": {
      "text/plain": [
       "Index(['Gender', 'Age', 'No_Pol', 'Car_Category', 'Subject_Car_Make',\n",
       "       'LGA_Name', 'State', 'ProductName', 'Policy Start Date_year',\n",
       "       'Policy Start Date_day', 'Policy Start Date_month',\n",
       "       'Policy Start Date_quarter', 'Policy End Date_year',\n",
       "       'Policy End Date_day', 'Policy End Date_month',\n",
       "       'Policy End Date_quarter'],\n",
       "      dtype='object')"
      ]
     },
     "execution_count": 33,
     "metadata": {},
     "output_type": "execute_result"
    }
   ],
   "source": [
    "X.columns"
   ]
  },
  {
   "cell_type": "code",
   "execution_count": 34,
   "id": "2cd873fb",
   "metadata": {
    "execution": {
     "iopub.execute_input": "2021-07-12T11:23:54.819740Z",
     "iopub.status.busy": "2021-07-12T11:23:54.819083Z",
     "iopub.status.idle": "2021-07-12T11:23:54.822269Z",
     "shell.execute_reply": "2021-07-12T11:23:54.821645Z",
     "shell.execute_reply.started": "2021-07-12T02:20:42.306094Z"
    },
    "papermill": {
     "duration": 0.060019,
     "end_time": "2021-07-12T11:23:54.822428",
     "exception": false,
     "start_time": "2021-07-12T11:23:54.762409",
     "status": "completed"
    },
    "tags": []
   },
   "outputs": [],
   "source": [
    "## Cross validation and model selection"
   ]
  },
  {
   "cell_type": "code",
   "execution_count": 35,
   "id": "c1066a43",
   "metadata": {
    "execution": {
     "iopub.execute_input": "2021-07-12T11:23:54.933020Z",
     "iopub.status.busy": "2021-07-12T11:23:54.932332Z",
     "iopub.status.idle": "2021-07-12T11:23:54.934886Z",
     "shell.execute_reply": "2021-07-12T11:23:54.935341Z",
     "shell.execute_reply.started": "2021-07-12T02:20:42.315168Z"
    },
    "papermill": {
     "duration": 0.059946,
     "end_time": "2021-07-12T11:23:54.935515",
     "exception": false,
     "start_time": "2021-07-12T11:23:54.875569",
     "status": "completed"
    },
    "tags": []
   },
   "outputs": [],
   "source": [
    "from lightgbm import LGBMClassifier\n",
    "from sklearn.model_selection import StratifiedKFold,StratifiedShuffleSplit"
   ]
  },
  {
   "cell_type": "code",
   "execution_count": 36,
   "id": "b264d281",
   "metadata": {
    "execution": {
     "iopub.execute_input": "2021-07-12T11:23:55.047447Z",
     "iopub.status.busy": "2021-07-12T11:23:55.046790Z",
     "iopub.status.idle": "2021-07-12T11:23:55.050154Z",
     "shell.execute_reply": "2021-07-12T11:23:55.049614Z",
     "shell.execute_reply.started": "2021-07-12T02:20:42.325511Z"
    },
    "papermill": {
     "duration": 0.060964,
     "end_time": "2021-07-12T11:23:55.050305",
     "exception": false,
     "start_time": "2021-07-12T11:23:54.989341",
     "status": "completed"
    },
    "tags": []
   },
   "outputs": [
    {
     "data": {
      "text/plain": [
       "'3.1.1'"
      ]
     },
     "execution_count": 36,
     "metadata": {},
     "output_type": "execute_result"
    }
   ],
   "source": [
    "import lightgbm\n",
    "lightgbm.__version__"
   ]
  },
  {
   "cell_type": "code",
   "execution_count": 37,
   "id": "96e800f8",
   "metadata": {
    "execution": {
     "iopub.execute_input": "2021-07-12T11:23:55.160756Z",
     "iopub.status.busy": "2021-07-12T11:23:55.160101Z",
     "iopub.status.idle": "2021-07-12T11:23:58.051017Z",
     "shell.execute_reply": "2021-07-12T11:23:58.051582Z",
     "shell.execute_reply.started": "2021-07-12T02:20:42.355506Z"
    },
    "papermill": {
     "duration": 2.947369,
     "end_time": "2021-07-12T11:23:58.051800",
     "exception": false,
     "start_time": "2021-07-12T11:23:55.104431",
     "status": "completed"
    },
    "tags": []
   },
   "outputs": [
    {
     "name": "stdout",
     "output_type": "stream",
     "text": [
      "Number of splits trained 1 \n",
      "Number of splits trained 2 \n",
      "Number of splits trained 3 \n",
      "Number of splits trained 4 \n",
      "Number of splits trained 5 \n",
      "Number of splits trained 6 \n",
      "Number of splits trained 7 \n",
      "Number of splits trained 8 \n",
      "Number of splits trained 9 \n",
      "Number of splits trained 10 \n"
     ]
    },
    {
     "data": {
      "text/plain": [
       "0.382393579527506"
      ]
     },
     "execution_count": 37,
     "metadata": {},
     "output_type": "execute_result"
    }
   ],
   "source": [
    "seed = 2021 # seed\n",
    "skf = StratifiedKFold(n_splits=10, shuffle=True, random_state=seed) # for cross validation\n",
    "scores = []\n",
    "preds= []\n",
    "\n",
    "\n",
    "\n",
    "    \n",
    "\n",
    "#creating a for loop for the stratified k fold\n",
    "i = 1\n",
    "for train, test in skf.split(X, y):\n",
    "    x_train, x_test, y_train, y_test = X.iloc[train], X.iloc[test], y.iloc[train], y.iloc[test]# spliting the data\n",
    "    estimator = LGBMClassifier(learning_rate=0.22,n_estimators = 95,cat_smooth=10,\n",
    "                               reg_alpha=0.0 ,metrics='binary_error'\n",
    "                               ,scale_pos_weight= 3.6,max_depth=16,num_leaves=49,reg_lambda=0.3)# parameters for the algorithm this was done by manual tuning\n",
    "\n",
    "    estimator.fit( x_train, y_train )# fitting on train data\n",
    "    \n",
    "    print('Number of splits trained {} '.format(i))\n",
    "    score = f1_score(y_test, estimator.predict(x_test)) # checking the accuracy\n",
    "    pred = estimator.predict_proba(test_new)[:,1] # making prediction probabities\n",
    "    scores.append(score)\n",
    "    preds.append(pred)\n",
    "    i += 1\n",
    "\n",
    "np.mean(scores)"
   ]
  },
  {
   "cell_type": "code",
   "execution_count": 38,
   "id": "0b0a9217",
   "metadata": {
    "execution": {
     "iopub.execute_input": "2021-07-12T11:23:58.174121Z",
     "iopub.status.busy": "2021-07-12T11:23:58.173264Z",
     "iopub.status.idle": "2021-07-12T11:23:58.177539Z",
     "shell.execute_reply": "2021-07-12T11:23:58.176972Z",
     "shell.execute_reply.started": "2021-07-12T02:20:42.461324Z"
    },
    "papermill": {
     "duration": 0.066812,
     "end_time": "2021-07-12T11:23:58.177688",
     "exception": false,
     "start_time": "2021-07-12T11:23:58.110876",
     "status": "completed"
    },
    "tags": []
   },
   "outputs": [
    {
     "data": {
      "text/plain": [
       "array([0.08185741, 0.02441219, 0.0511611 , ..., 0.61612464, 0.05280367,\n",
       "       0.60710452])"
      ]
     },
     "execution_count": 38,
     "metadata": {},
     "output_type": "execute_result"
    }
   ],
   "source": [
    "pred"
   ]
  },
  {
   "cell_type": "code",
   "execution_count": null,
   "id": "21b4aedc",
   "metadata": {
    "papermill": {
     "duration": 0.056743,
     "end_time": "2021-07-12T11:23:58.292503",
     "exception": false,
     "start_time": "2021-07-12T11:23:58.235760",
     "status": "completed"
    },
    "tags": []
   },
   "outputs": [],
   "source": []
  },
  {
   "cell_type": "code",
   "execution_count": 39,
   "id": "1e6d3e2c",
   "metadata": {
    "execution": {
     "iopub.execute_input": "2021-07-12T11:23:58.412682Z",
     "iopub.status.busy": "2021-07-12T11:23:58.411988Z",
     "iopub.status.idle": "2021-07-12T11:23:58.415067Z",
     "shell.execute_reply": "2021-07-12T11:23:58.414530Z"
    },
    "papermill": {
     "duration": 0.065344,
     "end_time": "2021-07-12T11:23:58.415219",
     "exception": false,
     "start_time": "2021-07-12T11:23:58.349875",
     "status": "completed"
    },
    "tags": []
   },
   "outputs": [],
   "source": [
    "preds_mean = np.mean(preds, axis=0) # mean of all the predictions"
   ]
  },
  {
   "cell_type": "code",
   "execution_count": 40,
   "id": "c28d26de",
   "metadata": {
    "execution": {
     "iopub.execute_input": "2021-07-12T11:23:58.535017Z",
     "iopub.status.busy": "2021-07-12T11:23:58.534198Z",
     "iopub.status.idle": "2021-07-12T11:23:58.538214Z",
     "shell.execute_reply": "2021-07-12T11:23:58.537589Z",
     "shell.execute_reply.started": "2021-07-12T02:20:42.522947Z"
    },
    "papermill": {
     "duration": 0.065926,
     "end_time": "2021-07-12T11:23:58.538400",
     "exception": false,
     "start_time": "2021-07-12T11:23:58.472474",
     "status": "completed"
    },
    "tags": []
   },
   "outputs": [
    {
     "data": {
      "text/plain": [
       "(1202,)"
      ]
     },
     "execution_count": 40,
     "metadata": {},
     "output_type": "execute_result"
    }
   ],
   "source": [
    "preds_mean.shape # shape of the mean predictions"
   ]
  },
  {
   "cell_type": "code",
   "execution_count": 41,
   "id": "713ab23f",
   "metadata": {
    "execution": {
     "iopub.execute_input": "2021-07-12T11:23:58.657302Z",
     "iopub.status.busy": "2021-07-12T11:23:58.656639Z",
     "iopub.status.idle": "2021-07-12T11:23:58.670494Z",
     "shell.execute_reply": "2021-07-12T11:23:58.671024Z"
    },
    "papermill": {
     "duration": 0.074744,
     "end_time": "2021-07-12T11:23:58.671209",
     "exception": false,
     "start_time": "2021-07-12T11:23:58.596465",
     "status": "completed"
    },
    "tags": []
   },
   "outputs": [],
   "source": [
    "## fro the final score since predict probalities was used, a threshold of 0.5 was used to group the preditions into 0 and 1 respectively\n",
    "final = []\n",
    "for x in preds_mean:\n",
    "    if x >= 0.51:\n",
    "        final.append(1)\n",
    "    else:\n",
    "        final.append(0)\n",
    "submit = ss.copy() # a copy of the submission sample csv\n",
    "submit.target = final\n",
    "submit.to_csv('ESD_LGBM2.csv',index=False) # naming the file"
   ]
  },
  {
   "cell_type": "code",
   "execution_count": 42,
   "id": "56fab401",
   "metadata": {
    "execution": {
     "iopub.execute_input": "2021-07-12T11:23:58.793090Z",
     "iopub.status.busy": "2021-07-12T11:23:58.789987Z",
     "iopub.status.idle": "2021-07-12T11:23:58.797128Z",
     "shell.execute_reply": "2021-07-12T11:23:58.796514Z"
    },
    "papermill": {
     "duration": 0.068651,
     "end_time": "2021-07-12T11:23:58.797266",
     "exception": false,
     "start_time": "2021-07-12T11:23:58.728615",
     "status": "completed"
    },
    "tags": []
   },
   "outputs": [
    {
     "data": {
      "text/plain": [
       "0    1111\n",
       "1      91\n",
       "Name: target, dtype: int64"
      ]
     },
     "execution_count": 42,
     "metadata": {},
     "output_type": "execute_result"
    }
   ],
   "source": [
    "submit.target.value_counts()# value count of the target column"
   ]
  },
  {
   "cell_type": "markdown",
   "id": "1901d11f",
   "metadata": {
    "papermill": {
     "duration": 0.057286,
     "end_time": "2021-07-12T11:23:58.912324",
     "exception": false,
     "start_time": "2021-07-12T11:23:58.855038",
     "status": "completed"
    },
    "tags": []
   },
   "source": [
    "##### "
   ]
  },
  {
   "cell_type": "code",
   "execution_count": null,
   "id": "be4ea7c7",
   "metadata": {
    "papermill": {
     "duration": 0.059569,
     "end_time": "2021-07-12T11:23:59.030316",
     "exception": false,
     "start_time": "2021-07-12T11:23:58.970747",
     "status": "completed"
    },
    "tags": []
   },
   "outputs": [],
   "source": []
  },
  {
   "cell_type": "code",
   "execution_count": null,
   "id": "875d5488",
   "metadata": {
    "papermill": {
     "duration": 0.057449,
     "end_time": "2021-07-12T11:23:59.145832",
     "exception": false,
     "start_time": "2021-07-12T11:23:59.088383",
     "status": "completed"
    },
    "tags": []
   },
   "outputs": [],
   "source": []
  },
  {
   "cell_type": "code",
   "execution_count": null,
   "id": "ac2e392c",
   "metadata": {
    "papermill": {
     "duration": 0.057463,
     "end_time": "2021-07-12T11:23:59.260944",
     "exception": false,
     "start_time": "2021-07-12T11:23:59.203481",
     "status": "completed"
    },
    "tags": []
   },
   "outputs": [],
   "source": []
  }
 ],
 "metadata": {
  "kernelspec": {
   "display_name": "Python 3",
   "language": "python",
   "name": "python3"
  },
  "language_info": {
   "codemirror_mode": {
    "name": "ipython",
    "version": 3
   },
   "file_extension": ".py",
   "mimetype": "text/x-python",
   "name": "python",
   "nbconvert_exporter": "python",
   "pygments_lexer": "ipython3",
   "version": "3.7.10"
  },
  "papermill": {
   "default_parameters": {},
   "duration": 30.96463,
   "end_time": "2021-07-12T11:24:00.971806",
   "environment_variables": {},
   "exception": null,
   "input_path": "__notebook__.ipynb",
   "output_path": "__notebook__.ipynb",
   "parameters": {},
   "start_time": "2021-07-12T11:23:30.007176",
   "version": "2.3.3"
  }
 },
 "nbformat": 4,
 "nbformat_minor": 5
}
